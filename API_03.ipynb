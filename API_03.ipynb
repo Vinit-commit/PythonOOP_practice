{
 "cells": [
  {
   "cell_type": "code",
   "execution_count": 1,
   "id": "73965baf",
   "metadata": {},
   "outputs": [],
   "source": [
    "from selenium import webdriver\n",
    "from selenium.webdriver.common.by import By\n",
    "from selenium.webdriver.chrome.service import Service\n",
    "from webdriver_manager.chrome import ChromeDriverManager\n",
    "import time"
   ]
  },
  {
   "cell_type": "code",
   "execution_count": 2,
   "id": "df0fff2a",
   "metadata": {},
   "outputs": [],
   "source": [
    "url = \"http://quotes.toscrape.com/js/\"\n"
   ]
  },
  {
   "cell_type": "code",
   "execution_count": null,
   "id": "3edd97dd",
   "metadata": {},
   "outputs": [],
   "source": [
    "try:\n",
    "    driver.get(url)\n",
    "    time.sleep(3)\n",
    "\n",
    "    quotes = driver.find_elements(By.CLASS_NAME, 'quote')\n",
    "\n",
    "    print(\"Found Quotes:\")\n",
    "    for quote in quotes:\n",
    "        # Find the text of the quote and the author within each quote element\n",
    "        text = quote.find_element(By.CLASS_NAME, 'text').text\n",
    "        author = quote.find_element(By.CLASS_NAME, 'author').text\n",
    "        print(f'\"{text}\" - {author}')\n",
    "\n",
    "finally:\n",
    "    # Close the browser window\n",
    "    driver.quit()"
   ]
  }
 ],
 "metadata": {
  "kernelspec": {
   "display_name": "Python 3",
   "language": "python",
   "name": "python3"
  },
  "language_info": {
   "codemirror_mode": {
    "name": "ipython",
    "version": 3
   },
   "file_extension": ".py",
   "mimetype": "text/x-python",
   "name": "python",
   "nbconvert_exporter": "python",
   "pygments_lexer": "ipython3",
   "version": "3.13.7"
  }
 },
 "nbformat": 4,
 "nbformat_minor": 5
}
