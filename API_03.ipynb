{
 "cells": [
  {
   "cell_type": "code",
   "execution_count": null,
   "id": "a16c6355",
   "metadata": {},
   "outputs": [
    {
     "name": "stdout",
     "output_type": "stream",
     "text": [
      "Defaulting to user installation because normal site-packages is not writeable\n",
      "Requirement already satisfied: selenium in c:\\users\\prani\\appdata\\roaming\\python\\python313\\site-packages (4.35.0)\n",
      "Requirement already satisfied: webdriver-manager in c:\\users\\prani\\appdata\\roaming\\python\\python313\\site-packages (4.0.2)\n",
      "Requirement already satisfied: urllib3<3.0,>=2.5.0 in c:\\users\\prani\\appdata\\roaming\\python\\python313\\site-packages (from urllib3[socks]<3.0,>=2.5.0->selenium) (2.5.0)\n",
      "Requirement already satisfied: trio~=0.30.0 in c:\\users\\prani\\appdata\\roaming\\python\\python313\\site-packages (from selenium) (0.30.0)\n",
      "Requirement already satisfied: trio-websocket~=0.12.2 in c:\\users\\prani\\appdata\\roaming\\python\\python313\\site-packages (from selenium) (0.12.2)\n",
      "Requirement already satisfied: certifi>=2025.6.15 in c:\\users\\prani\\appdata\\roaming\\python\\python313\\site-packages (from selenium) (2025.8.3)\n",
      "Requirement already satisfied: typing_extensions~=4.14.0 in c:\\users\\prani\\appdata\\roaming\\python\\python313\\site-packages (from selenium) (4.14.1)\n",
      "Requirement already satisfied: websocket-client~=1.8.0 in c:\\users\\prani\\appdata\\roaming\\python\\python313\\site-packages (from selenium) (1.8.0)\n",
      "Requirement already satisfied: attrs>=23.2.0 in c:\\users\\prani\\appdata\\roaming\\python\\python313\\site-packages (from trio~=0.30.0->selenium) (25.3.0)\n",
      "Requirement already satisfied: sortedcontainers in c:\\users\\prani\\appdata\\roaming\\python\\python313\\site-packages (from trio~=0.30.0->selenium) (2.4.0)\n",
      "Requirement already satisfied: idna in c:\\users\\prani\\appdata\\roaming\\python\\python313\\site-packages (from trio~=0.30.0->selenium) (3.10)\n",
      "Requirement already satisfied: outcome in c:\\users\\prani\\appdata\\roaming\\python\\python313\\site-packages (from trio~=0.30.0->selenium) (1.3.0.post0)\n",
      "Requirement already satisfied: sniffio>=1.3.0 in c:\\users\\prani\\appdata\\roaming\\python\\python313\\site-packages (from trio~=0.30.0->selenium) (1.3.1)\n",
      "Requirement already satisfied: cffi>=1.14 in c:\\users\\prani\\appdata\\roaming\\python\\python313\\site-packages (from trio~=0.30.0->selenium) (1.17.1)\n",
      "Requirement already satisfied: wsproto>=0.14 in c:\\users\\prani\\appdata\\roaming\\python\\python313\\site-packages (from trio-websocket~=0.12.2->selenium) (1.2.0)\n",
      "Requirement already satisfied: pysocks!=1.5.7,<2.0,>=1.5.6 in c:\\users\\prani\\appdata\\roaming\\python\\python313\\site-packages (from urllib3[socks]<3.0,>=2.5.0->selenium) (1.7.1)\n",
      "Requirement already satisfied: requests in c:\\users\\prani\\appdata\\roaming\\python\\python313\\site-packages (from webdriver-manager) (2.32.5)\n",
      "Requirement already satisfied: python-dotenv in c:\\users\\prani\\appdata\\roaming\\python\\python313\\site-packages (from webdriver-manager) (1.1.1)\n",
      "Requirement already satisfied: packaging in c:\\users\\prani\\appdata\\roaming\\python\\python313\\site-packages (from webdriver-manager) (25.0)\n",
      "Requirement already satisfied: pycparser in c:\\users\\prani\\appdata\\roaming\\python\\python313\\site-packages (from cffi>=1.14->trio~=0.30.0->selenium) (2.22)\n",
      "Requirement already satisfied: h11<1,>=0.9.0 in c:\\users\\prani\\appdata\\roaming\\python\\python313\\site-packages (from wsproto>=0.14->trio-websocket~=0.12.2->selenium) (0.16.0)\n",
      "Requirement already satisfied: charset_normalizer<4,>=2 in c:\\users\\prani\\appdata\\roaming\\python\\python313\\site-packages (from requests->webdriver-manager) (3.4.3)\n"
     ]
    }
   ],
   "source": []
  },
  {
   "cell_type": "code",
   "execution_count": 5,
   "id": "73965baf",
   "metadata": {},
   "outputs": [],
   "source": [
    "from selenium import webdriver\n",
    "from selenium.webdriver.common.by import By\n",
    "from selenium.webdriver.chrome.service import Service\n",
    "from webdriver_manager.chrome import ChromeDriverManager\n",
    "import time"
   ]
  },
  {
   "cell_type": "code",
   "execution_count": 8,
   "id": "04cc80f8",
   "metadata": {},
   "outputs": [],
   "source": [
    "service = Service(ChromeDriverManager().install())\n",
    "driver = webdriver.Chrome(service=service)"
   ]
  },
  {
   "cell_type": "code",
   "execution_count": 9,
   "id": "df0fff2a",
   "metadata": {},
   "outputs": [],
   "source": [
    "url = \"http://quotes.toscrape.com/js/\"\n"
   ]
  },
  {
   "cell_type": "code",
   "execution_count": 10,
   "id": "3edd97dd",
   "metadata": {},
   "outputs": [
    {
     "name": "stdout",
     "output_type": "stream",
     "text": [
      "Found Quotes:\n",
      "\"“The world as we have created it is a process of our thinking. It cannot be changed without changing our thinking.”\" - Albert Einstein\n",
      "\"“It is our choices, Harry, that show what we truly are, far more than our abilities.”\" - J.K. Rowling\n",
      "\"“There are only two ways to live your life. One is as though nothing is a miracle. The other is as though everything is a miracle.”\" - Albert Einstein\n",
      "\"“The person, be it gentleman or lady, who has not pleasure in a good novel, must be intolerably stupid.”\" - Jane Austen\n",
      "\"“Imperfection is beauty, madness is genius and it's better to be absolutely ridiculous than absolutely boring.”\" - Marilyn Monroe\n",
      "\"“Try not to become a man of success. Rather become a man of value.”\" - Albert Einstein\n",
      "\"“It is better to be hated for what you are than to be loved for what you are not.”\" - André Gide\n",
      "\"“I have not failed. I've just found 10,000 ways that won't work.”\" - Thomas A. Edison\n",
      "\"“A woman is like a tea bag; you never know how strong it is until it's in hot water.”\" - Eleanor Roosevelt\n",
      "\"“A day without sunshine is like, you know, night.”\" - Steve Martin\n"
     ]
    }
   ],
   "source": [
    "try:\n",
    "    driver.get(url)\n",
    "    time.sleep(3)\n",
    "\n",
    "    quotes = driver.find_elements(By.CLASS_NAME, 'quote')\n",
    "\n",
    "    print(\"Found Quotes:\")\n",
    "    for quote in quotes:\n",
    "        # Find the text of the quote and the author within each quote element\n",
    "        text = quote.find_element(By.CLASS_NAME, 'text').text\n",
    "        author = quote.find_element(By.CLASS_NAME, 'author').text\n",
    "        print(f'\"{text}\" - {author}')\n",
    "\n",
    "finally:\n",
    "    # Close the browser window\n",
    "    driver.quit()"
   ]
  },
  {
   "cell_type": "code",
   "execution_count": null,
   "id": "87c544d8",
   "metadata": {},
   "outputs": [],
   "source": []
  }
 ],
 "metadata": {
  "kernelspec": {
   "display_name": "Python 3",
   "language": "python",
   "name": "python3"
  },
  "language_info": {
   "codemirror_mode": {
    "name": "ipython",
    "version": 3
   },
   "file_extension": ".py",
   "mimetype": "text/x-python",
   "name": "python",
   "nbconvert_exporter": "python",
   "pygments_lexer": "ipython3",
   "version": "3.13.7"
  }
 },
 "nbformat": 4,
 "nbformat_minor": 5
}
